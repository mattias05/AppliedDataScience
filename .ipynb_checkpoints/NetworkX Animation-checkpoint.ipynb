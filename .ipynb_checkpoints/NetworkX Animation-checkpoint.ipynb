{
 "cells": [
  {
   "cell_type": "code",
   "execution_count": 1,
   "metadata": {
    "collapsed": true
   },
   "outputs": [],
   "source": [
    "import random\n",
    "import pylab\n",
    "from matplotlib.pyplot import pause\n",
    "import networkx as nx\n",
    "%matplotlib inline\n",
    "pylab.ion()\n",
    "\n",
    "graph = nx.Graph()\n",
    "node_number = 0\n",
    "graph.add_node(node_number, Position=(random.randrange(0, 100), random.randrange(0, 100)))"
   ]
  },
  {
   "cell_type": "code",
   "execution_count": 2,
   "metadata": {
    "collapsed": true
   },
   "outputs": [],
   "source": [
    "def get_fig():\n",
    "    global node_number\n",
    "    node_number += 1\n",
    "    graph.add_node(node_number, Position=(random.randrange(0, 100), random.randrange(0, 100)))\n",
    "    graph.add_edge(node_number, random.choice(graph.nodes()))\n",
    "    fig = pylab.figure()\n",
    "    nx.draw(graph, pos=nx.get_node_attributes(graph,'Position'))\n",
    "    return fig"
   ]
  },
  {
   "cell_type": "code",
   "execution_count": 3,
   "metadata": {},
   "outputs": [
    {
     "name": "stderr",
     "output_type": "stream",
     "text": [
      "/anaconda/lib/python3.6/site-packages/networkx/drawing/nx_pylab.py:126: MatplotlibDeprecationWarning: pyplot.hold is deprecated.\n",
      "    Future behavior will be consistent with the long-time default:\n",
      "    plot commands add elements without first clearing the\n",
      "    Axes and/or Figure.\n",
      "  b = plt.ishold()\n",
      "/anaconda/lib/python3.6/site-packages/networkx/drawing/nx_pylab.py:138: MatplotlibDeprecationWarning: pyplot.hold is deprecated.\n",
      "    Future behavior will be consistent with the long-time default:\n",
      "    plot commands add elements without first clearing the\n",
      "    Axes and/or Figure.\n",
      "  plt.hold(b)\n",
      "/anaconda/lib/python3.6/site-packages/matplotlib/__init__.py:917: UserWarning: axes.hold is deprecated. Please remove it from your matplotlibrc and/or style files.\n",
      "  warnings.warn(self.msg_depr_set % key)\n",
      "/anaconda/lib/python3.6/site-packages/matplotlib/rcsetup.py:152: UserWarning: axes.hold is deprecated, will be removed in 3.0\n",
      "  warnings.warn(\"axes.hold is deprecated, will be removed in 3.0\")\n"
     ]
    }
   ],
   "source": [
    "num_plots = 2;\n",
    "pylab.show()\n",
    "\n",
    "for i in range(num_plots):\n",
    "\n",
    "    fig = get_fig()\n",
    "    fig.canvas.draw()\n",
    "    pylab.draw()\n",
    "    pause(2)\n",
    "    pylab.close(fig)"
   ]
  },
  {
   "cell_type": "code",
   "execution_count": 4,
   "metadata": {
    "collapsed": true
   },
   "outputs": [],
   "source": [
    "import matplotlib.pyplot as plt\n",
    "connections = [\n",
    "                (1, 2),\n",
    "                (2, 3),\n",
    "                (3, 4),\n",
    "                (4, 5),\n",
    "                (5, 1),\n",
    "                (6, 2),\n",
    "                ('Fish', 4),\n",
    "                ('Salam', 5)\n",
    "]"
   ]
  },
  {
   "cell_type": "code",
   "execution_count": 5,
   "metadata": {},
   "outputs": [
    {
     "data": {
      "text/plain": [
       "{(1, 2): 0,\n",
       " (2, 3): 1,\n",
       " (3, 4): 2,\n",
       " (4, 5): 3,\n",
       " (5, 1): 4,\n",
       " (6, 2): 5,\n",
       " ('Fish', 4): 6,\n",
       " ('Salam', 5): 7}"
      ]
     },
     "execution_count": 5,
     "metadata": {},
     "output_type": "execute_result"
    }
   ],
   "source": [
    "edgeLabels = {connection: x for x, connection in enumerate(connections)}\n",
    "edgeLabels"
   ]
  },
  {
   "cell_type": "code",
   "execution_count": 11,
   "metadata": {},
   "outputs": [
    {
     "data": {
      "text/plain": [
       "(-0.11239168309010489,\n",
       " 0.89088557473105023,\n",
       " -0.1631197008484993,\n",
       " 1.1631197008484992)"
      ]
     },
     "execution_count": 11,
     "metadata": {},
     "output_type": "execute_result"
    },
    {
     "data": {
      "image/png": "[encoded data removed]",
      "text/plain": [
       "<matplotlib.figure.Figure at 0x11bde1be0>"
      ]
     },
     "metadata": {},
     "output_type": "display_data"
    }
   ],
   "source": [
    "graph = nx.Graph()\n",
    "for c in connections:\n",
    "    graph.add_edge(c[0], c[1])\n",
    "    \n",
    "pos = nx.spring_layout(graph)\n",
    "nx.draw_networkx_nodes(graph, pos, node_size=2000, node_color='b')\n",
    "nx.draw_networkx_labels(graph, pos, font_color='w')\n",
    "nx.draw_networkx_edges(graph, pos)\n",
    "nx.draw_networkx_edge_labels(graph, pos, font_color='k', edge_labels=edgeLabels)\n",
    "\n",
    "plt.axis('off')\n",
    "#plt.show()"
   ]
  },
  {
   "cell_type": "raw",
   "metadata": {},
   "source": []
  },
  {
   "cell_type": "code",
   "execution_count": null,
   "metadata": {
    "collapsed": true
   },
   "outputs": [],
   "source": []
  }
 ],
 "metadata": {
  "kernelspec": {
   "display_name": "Python 3",
   "language": "python",
   "name": "python3"
  },
  "language_info": {
   "codemirror_mode": {
    "name": "ipython",
    "version": 3
   },
   "file_extension": ".py",
   "mimetype": "text/x-python",
   "name": "python",
   "nbconvert_exporter": "python",
   "pygments_lexer": "ipython3",
   "version": "3.6.0"
  }
 },
 "nbformat": 4,
 "nbformat_minor": 2
}
