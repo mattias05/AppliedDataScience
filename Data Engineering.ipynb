{
 "cells": [
  {
   "cell_type": "markdown",
   "metadata": {},
   "source": [
    "# Load Bloomberg data from Excel \n",
    "\n",
    "Data has been downloaded via VBA Script and saved on BloombergDataCleaned.xlsm\n",
    "No time series gap filling / or blanding have been applied. Data Cleaning will be done here in Python."
   ]
  },
  {
   "cell_type": "code",
   "execution_count": null,
   "metadata": {
    "collapsed": true
   },
   "outputs": [],
   "source": [
    "import pandas as pd\n",
    "import datetime "
   ]
  },
  {
   "cell_type": "code",
   "execution_count": 161,
   "metadata": {
    "collapsed": true
   },
   "outputs": [],
   "source": [
    "# some data is saved in different Sheets\n",
    "data4 = pd.read_excel('BloombergDataCleaned.xlsm', sheetname='Sheet4', index_col='Timestamp')\n",
    "data5 = pd.read_excel('BloombergDataCleaned.xlsm', sheetname='Sheet5', index_col='Timestamp')\n",
    "data6 = pd.read_excel('BloombergDataCleaned.xlsm', sheetname='Sheet6', index_col='Timestamp')\n",
    "data7 = pd.read_excel('BloombergDataCleaned.xlsm', sheetname='Sheet7', index_col='Timestamp')\n",
    "data8 = pd.read_excel('BloombergDataCleaned.xlsm', sheetname='Sheet8', index_col='Timestamp')\n",
    "data9 = pd.read_excel('BloombergDataCleaned.xlsm', sheetname='Sheet9', index_col='Timestamp')\n",
    "data10 = pd.read_excel('BloombergDataCleaned.xlsm', sheetname='Sheet10', index_col='Timestamp')\n",
    "data11 = pd.read_excel('BloombergDataCleaned.xlsm', sheetname='Sheet11', index_col='Timestamp')\n",
    "data12 = pd.read_excel('BloombergDataCleaned.xlsm', sheetname='Sheet12', index_col='Timestamp')\n",
    "data13 = pd.read_excel('BloombergDataCleaned.xlsm', sheetname='Sheet13', index_col='Timestamp')\n",
    "data14 = pd.read_excel('BloombergDataCleaned.xlsm', sheetname='Sheet14', index_col='Timestamp')\n",
    "data15 = pd.read_excel('BloombergDataCleaned.xlsm', sheetname='Sheet15', index_col='Timestamp')"
   ]
  },
  {
   "cell_type": "code",
   "execution_count": 162,
   "metadata": {
    "collapsed": true
   },
   "outputs": [],
   "source": [
    "# align the timezone\n",
    "data5.index = data5.index + pd.Timedelta(hours=1)\n",
    "data13.index = data13.index + pd.Timedelta(hours=1)\n",
    "data14.index = data14.index + pd.Timedelta(hours=1)\n",
    "data15.index = data15.index + pd.Timedelta(hours=1)\n",
    "\n",
    "'''# reindex to align the timezone\n",
    "data[3].index = data[3].index + pd.Timedelta(hours=1)\n",
    "data[5].index = data[5].index + pd.Timedelta(hours=1)\n",
    "data[6].index = data[6].index + pd.Timedelta(hours=1)\n",
    "data[10].index = data[10].index + pd.Timedelta(hours=1)\n",
    "data[18].index = data[18].index + pd.Timedelta(hours=1)\n",
    "data[22].index = data[22].index + pd.Timedelta(hours=1)\n",
    "data[25].index = data[25].index + pd.Timedelta(hours=1)\n",
    "'''\n",
    "# you could also do it dynamically using \n",
    "''' \n",
    "for i in range(0, 36):\n",
    "    if data[i].index[0].time().hour == 7:\n",
    "        data[i].index = data[i].index + pd.Timedelta(hours=1)\n",
    "'''"
   ]
  },
  {
   "cell_type": "code",
   "execution_count": 163,
   "metadata": {
    "collapsed": true
   },
   "outputs": [],
   "source": [
    "# more data\n",
    "data = dict()\n",
    "\n",
    "j = 0\n",
    "for i in range(0, 107, 3):\n",
    "    # read the excel file\n",
    "    data[j] = pd.read_excel('BloombergDataCleaned.xlsm', sheetname='Sheet0', parse_cols=[i,i+1], index_col=0)\n",
    "    # drop nan\n",
    "    data[j].dropna(inplace=True)\n",
    "    # reindex to align the timezone\n",
    "    if data[j].index[0].time().hour == 7:\n",
    "        data[j].index = data[j].index + pd.Timedelta(hours=1)\n",
    "    j = j+1"
   ]
  },
  {
   "cell_type": "code",
   "execution_count": 164,
   "metadata": {},
   "outputs": [
    {
     "name": "stdout",
     "output_type": "stream",
     "text": [
      "(17193,)\n"
     ]
    }
   ],
   "source": [
    "# generate the index manually. Otherwise standard resampling methods would include all the \n",
    "# hours of the day! We do care only about trading hours and Business Days (freq='B')\n",
    "index_date = pd.date_range('2018-01-02', '2018-02-15', freq='B')\n",
    "index_date = pd.Series(index_date)\n",
    "index_time = pd.date_range('08:00:00', '16:40:00', freq='1min')\n",
    "index_time = pd.Series(index_time.time)\n",
    "\n",
    "index = index_date.apply(\n",
    "    lambda d: index_time.apply(\n",
    "        lambda t: datetime.datetime.combine(d, t)\n",
    "        )\n",
    "    ).unstack().sort_values().reset_index(drop=True)\n",
    "\n",
    "print(index.shape)"
   ]
  },
  {
   "cell_type": "code",
   "execution_count": 165,
   "metadata": {
    "collapsed": true
   },
   "outputs": [],
   "source": [
    "# reindex the Series with the newly generated index\n",
    "data4 = data4.reindex(index=index)\n",
    "data5 = data5.reindex(index=index)\n",
    "data6 = data6.reindex(index=index)\n",
    "data7 = data7.reindex(index=index)\n",
    "data8 = data8.reindex(index=index)\n",
    "data9 = data9.reindex(index=index)\n",
    "data10 = data10.reindex(index=index)\n",
    "data11 = data11.reindex(index=index)\n",
    "data12 = data12.reindex(index=index)\n",
    "data13 = data13.reindex(index=index)\n",
    "data14 = data14.reindex(index=index)\n",
    "data15 = data15.reindex(index=index)\n",
    "\n",
    "# interpolate to get the values for the NaNs\n",
    "data4 = data4.interpolate(method='linear')\n",
    "data5 = data5.interpolate(method='linear')\n",
    "data6 = data6.interpolate(method='linear')\n",
    "data7 = data7.interpolate(method='linear')\n",
    "data8 = data8.interpolate(method='linear')\n",
    "data9 = data9.interpolate(method='linear')\n",
    "data10 = data10.interpolate(method='linear')\n",
    "data11 = data11.interpolate(method='linear')\n",
    "data12 = data12.interpolate(method='linear')\n",
    "data13 = data13.interpolate(method='linear')\n",
    "data14 = data14.interpolate(method='linear')\n",
    "data15 = data15.interpolate(method='linear')"
   ]
  },
  {
   "cell_type": "code",
   "execution_count": null,
   "metadata": {
    "collapsed": true
   },
   "outputs": [],
   "source": [
    "# move everything into a single dictionary\n",
    "data[36] = data4\n",
    "data[37] = data5\n",
    "data[38] = data6\n",
    "data[39] = data7\n",
    "data[40] = data8\n",
    "data[41] = data9\n",
    "data[42] = data10\n",
    "data[43] = data11\n",
    "data[44] = data12\n",
    "data[45] = data13\n",
    "data[46] = data14\n",
    "data[47] = data15"
   ]
  },
  {
   "cell_type": "code",
   "execution_count": 228,
   "metadata": {},
   "outputs": [
    {
     "name": "stdout",
     "output_type": "stream",
     "text": [
      "(17193, 48)\n"
     ]
    }
   ],
   "source": [
    "# create an empty df indexed like my data\n",
    "data_open = pd.DataFrame(index=index)\n",
    "\n",
    "# join all the dictionary items into one single df\n",
    "for k in data.keys():\n",
    "    data_open = data_open.join(data[k])\n",
    "print(data_open.shape)"
   ]
  },
  {
   "cell_type": "code",
   "execution_count": 229,
   "metadata": {
    "collapsed": true
   },
   "outputs": [],
   "source": [
    "# save the data into a csv file \n",
    "data_open.to_csv('closing_prices_cleaned.csv')"
   ]
  },
  {
   "cell_type": "markdown",
   "metadata": {},
   "source": [
    "# End of data preparation "
   ]
  },
  {
   "cell_type": "code",
   "execution_count": null,
   "metadata": {
    "collapsed": true
   },
   "outputs": [],
   "source": []
  },
  {
   "cell_type": "code",
   "execution_count": null,
   "metadata": {
    "collapsed": true
   },
   "outputs": [],
   "source": []
  }
 ],
 "metadata": {
  "kernelspec": {
   "display_name": "Python 3",
   "language": "python",
   "name": "python3"
  },
  "language_info": {
   "codemirror_mode": {
    "name": "ipython",
    "version": 3
   },
   "file_extension": ".py",
   "mimetype": "text/x-python",
   "name": "python",
   "nbconvert_exporter": "python",
   "pygments_lexer": "ipython3",
   "version": "3.6.0"
  }
 },
 "nbformat": 4,
 "nbformat_minor": 2
}
