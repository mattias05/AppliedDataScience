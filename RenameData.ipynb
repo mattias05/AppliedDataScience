{
 "cells": [
  {
   "cell_type": "code",
   "execution_count": 3,
   "metadata": {},
   "outputs": [],
   "source": [
    "stocks = {'BNP Paribas': 'Bank', 'Carrefour': 'Food', 'Cement Roadstone Hold': 'Construction', \n",
    "          'Daimler': 'Automobiles', 'Danone': 'Food', 'Deutsche Bank': 'Bank', 'Deutsche Telekom': 'Telecommunications',\n",
    "          'ENEL': 'Electricity', 'Engie': 'Electricity', 'ENI': 'Oil & Gas', 'EON': 'Electricity',\n",
    "          'Essilor Intl': 'Health Care', 'Iberdrola': 'Electricity', 'Industria Textil': 'Personal Goods',\n",
    "          'ING Group': 'Bank', 'Intesa SP': 'Bank', 'L’Oreal': 'Personal Goods', 'LVMH': 'Leisure Goods',\n",
    "          'Munich RE': 'Insurance', 'Orange': 'Telecommunications', 'Philips': 'Electrical Equipment',\n",
    "          'Repsol': 'Oil & Gas', 'RWE AG': 'Electricity', 'Saint Gobain': 'Construction', 'Sanofi': 'Pharmaceuticals',\n",
    "          'SAP': 'Software', 'Schneider': 'Hardware', 'Siemens': 'Electrical Equipment', 'Societe Generale': 'Bank',\n",
    "          'Telefonica SA': 'Telecommunications', 'Total': 'Oil & Gas', 'UniCredit': 'Bank',\n",
    "          'Unilever': 'Household Goods', 'Vinci': 'Constructions', 'Vivendi': 'Telecommunications', \n",
    "          'Volkswagen': 'Automobiles', 'Air Liquide': 'Chemicals', 'Allianz SE': 'Insurance',\n",
    "          'ABI': 'Food', 'Arcelor Mittal': 'Construction', 'ASML': 'Electrical Equipments',\n",
    "          'Generali': 'Insurance', 'AXA': 'Insurance', 'BBVA': 'Bank', 'Santander': 'Bank', 'BASF': 'Chemicals',\n",
    "          'Bayer': 'Pharmaceuticals', 'BMW': 'Automobiles'\n",
    "         }"
   ]
  },
  {
   "cell_type": "code",
   "execution_count": null,
   "metadata": {},
   "outputs": [],
   "source": []
  },
  {
   "cell_type": "code",
   "execution_count": null,
   "metadata": {
    "collapsed": true
   },
   "outputs": [],
   "source": []
  }
 ],
 "metadata": {
  "kernelspec": {
   "display_name": "Python 3",
   "language": "python",
   "name": "python3"
  },
  "language_info": {
   "codemirror_mode": {
    "name": "ipython",
    "version": 3
   },
   "file_extension": ".py",
   "mimetype": "text/x-python",
   "name": "python",
   "nbconvert_exporter": "python",
   "pygments_lexer": "ipython3",
   "version": "3.6.0"
  }
 },
 "nbformat": 4,
 "nbformat_minor": 2
}
